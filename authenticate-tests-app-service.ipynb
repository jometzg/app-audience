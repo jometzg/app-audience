{
 "cells": [
  {
   "cell_type": "markdown",
   "metadata": {},
   "source": [
    "# User Authentication using OAuth2 and APIM fronting Azure OpenAI"
   ]
  },
  {
   "cell_type": "code",
   "execution_count": 5,
   "metadata": {},
   "outputs": [],
   "source": [
    "tenant_id = \"f69a7636-4db8-498c-8ff6-bc7f1aafcec0\" # my MCAPS tenant\n",
    "client_id = \"c2933b1e-ba50-4177-ac78-11a564edf49d\" # web-lliybm23riihe-docker client id\n",
    "app_endpoint = \"https://web-lliybm23riihe-docker.azurewebsites.net\"\n"
   ]
  },
  {
   "cell_type": "code",
   "execution_count": null,
   "metadata": {},
   "outputs": [],
   "source": [
    "%pip install msal\n",
    "%pip install openai\n",
    "%pip install requests\n",
    "%pip install logging\n",
    "%pip install json"
   ]
  },
  {
   "cell_type": "markdown",
   "metadata": {},
   "source": [
    "##  Create a device flow to get the access token"
   ]
  },
  {
   "cell_type": "code",
   "execution_count": 11,
   "metadata": {},
   "outputs": [
    {
     "name": "stdout",
     "output_type": "stream",
     "text": [
      "To sign in, use a web browser to open the page https://microsoft.com/devicelogin and enter the code AFEHWS4UV to authenticate.\n"
     ]
    }
   ],
   "source": [
    "# Step 1: Install MSAL\n",
    "# pip install msal\n",
    "\n",
    "import msal\n",
    "\n",
    "# Step 2: Configure MSAL\n",
    "authority = 'https://login.microsoftonline.com/f69a7636-4db8-498c-8ff6-bc7f1aafcec0'\n",
    "# below is the managed identity for APIM\n",
    "scopes = [\"c2933b1e-ba50-4177-ac78-11a564edf49d\"] # , \"User.Read\"]\n",
    "\n",
    "# Create a public client application\n",
    "app = msal.PublicClientApplication(client_id, authority=authority)\n",
    "\n",
    "# Step 3: Initiate Device Flow\n",
    "flow = app.initiate_device_flow(scopes=scopes)\n",
    "if 'user_code' not in flow:\n",
    "    raise ValueError(\"Failed to create device flow. Check your client ID and authority.\")\n",
    "\n",
    "print(flow['message'])"
   ]
  },
  {
   "cell_type": "code",
   "execution_count": 8,
   "metadata": {},
   "outputs": [
    {
     "name": "stdout",
     "output_type": "stream",
     "text": [
      "Access token acquired.\n",
      "{'aud': '00000003-0000-0000-c000-000000000000', 'iss': 'https://sts.windows.net/f69a7636-4db8-498c-8ff6-bc7f1aafcec0/', 'iat': 1730743151, 'nbf': 1730743151, 'exp': 1730747433, 'acct': 1, 'acr': '1', 'aio': 'AXQAi/8YAAAAMTyWm8ka3it8xaOGmxe/Qe1ayMRbRzGZUDGPXPuZCiWoM0o8xnbojAUDf80v131ydXIPdPk8tllBYe8adUaX5QaAGc9FqiMUndpBguTYpTQxGhwUxvFLLzF2ZXQSvj3nRa4wxh8A+3atZ0K4vVJ2oA==', 'altsecid': '5::10033FFFA87156C9', 'amr': ['pwd', 'mfa'], 'app_displayname': 'web-lliybm23riihe-docker', 'appid': 'c2933b1e-ba50-4177-ac78-11a564edf49d', 'appidacr': '0', 'email': 'JOMETZG@microsoft.com', 'idp': 'https://sts.windows.net/72f988bf-86f1-41af-91ab-2d7cd011db47/', 'idtyp': 'user', 'ipaddr': '212.159.20.110', 'name': 'John Metzger', 'oid': 'e3f444c1-3a1c-4b5b-8d49-de0c8df5a5eb', 'platf': '14', 'puid': '10032003C2DF54E7', 'rh': '1.AWMBNnaa9rhNjEmP9rx_Gq_OwAMAAAAAAAAAwAAAAAAAAABjAe5jAQ.', 'scp': 'email Mail.Read openid profile User.Read', 'signin_state': ['kmsi'], 'sub': 'ugDMqgxe-8oVLViKR8H6kQkLTr4l34CjCPArAcr1Wxo', 'tenant_region_scope': 'NA', 'tid': 'f69a7636-4db8-498c-8ff6-bc7f1aafcec0', 'unique_name': 'JOMETZG@microsoft.com', 'uti': 'JGrrOCm5jkCFbVTn1C0GAQ', 'ver': '1.0', 'wids': ['9b895d92-2cd3-44c7-9d02-a6ac2d5ea5c3', '13bd1c72-6f4a-4dcf-985f-18d3b80f208a'], 'xms_idrel': '5 10', 'xms_st': {'sub': 'dLzvNehSqf94LXERCgo3TgsfklqVKCBEIZttWkvout4'}, 'xms_tcdt': 1724778273}\n",
      "00000003-0000-0000-c000-000000000000\n"
     ]
    }
   ],
   "source": [
    "# Step 4: Acquire Token\n",
    "result = app.acquire_token_by_device_flow(flow)\n",
    "if 'access_token' in result:\n",
    "    print(\"Access token acquired.\")\n",
    "else:\n",
    "    raise ValueError(\"Failed to acquire token. Error: {}\".format(result.get('error_description')))\n",
    "\n",
    "access_token = result['access_token']\n",
    "\n",
    "# Step 5: Validate Token (Optional)\n",
    "# You can decode the token and check the audience if needed\n",
    "import jwt\n",
    "\n",
    "decoded_token = jwt.decode(access_token, options={\"verify_signature\": False})\n",
    "audience = decoded_token.get('aud')\n",
    "# if audience != 'api://your-apim-instance':\n",
    "#     raise ValueError(\"Token audience does not match the expected audience.\")\n",
    "\n",
    "print(decoded_token)\n",
    "print(audience )"
   ]
  },
  {
   "cell_type": "code",
   "execution_count": 23,
   "metadata": {},
   "outputs": [
    {
     "name": "stdout",
     "output_type": "stream",
     "text": [
      "api://bee929cd-e8ac-4385-b299-e544fd2c476d/newopenai\n",
      "eyJ0eXAiOiJKV1QiLCJhbGciOiJSUzI1NiIsIng1dCI6IjNQYUs0RWZ5Qk5RdTNDdGpZc2EzWW1oUTVFMCIsImtpZCI6IjNQYUs0RWZ5Qk5RdTNDdGpZc2EzWW1oUTVFMCJ9.eyJhdWQiOiJhcGk6Ly9iZWU5MjljZC1lOGFjLTQzODUtYjI5OS1lNTQ0ZmQyYzQ3NmQvbmV3b3BlbmFpIiwiaXNzIjoiaHR0cHM6Ly9zdHMud2luZG93cy5uZXQvZjY5YTc2MzYtNGRiOC00OThjLThmZjYtYmM3ZjFhYWZjZWMwLyIsImlhdCI6MTczMDI4NzYwMiwibmJmIjoxNzMwMjg3NjAyLCJleHAiOjE3MzAyOTI0NTIsImFjciI6IjEiLCJhaW8iOiJBWFFBaS84WUFBQUFFcjhyTEJwTTN3bEk1T3J4NmVDN3prOXFvWC9CUEdUSHhoOERWVFp4SDZkQ3BBQVRTK0tzd2NZN1hsR3N0L3lseUoyYTdkVG5ycW43WUpETzRxTHJzY2Z5V1orRHdaODc0eXJwUTRBY2VicFVXdDZUQVM2a3NvNkVWcWwzc2F2UStxZm5Rd28rU1lTcHZaNUUyRG40WUE9PSIsImFtciI6WyJwd2QiLCJtZmEiXSwiYXBwaWQiOiJiZWU5MjljZC1lOGFjLTQzODUtYjI5OS1lNTQ0ZmQyYzQ3NmQiLCJhcHBpZGFjciI6IjAiLCJlbWFpbCI6IkpPTUVUWkdAbWljcm9zb2Z0LmNvbSIsImlkcCI6Imh0dHBzOi8vc3RzLndpbmRvd3MubmV0LzcyZjk4OGJmLTg2ZjEtNDFhZi05MWFiLTJkN2NkMDExZGI0Ny8iLCJpcGFkZHIiOiIyMTIuMTU5LjIwLjExMCIsIm5hbWUiOiJKb2huIE1ldHpnZXIiLCJvaWQiOiJlM2Y0NDRjMS0zYTFjLTRiNWItOGQ0OS1kZTBjOGRmNWE1ZWIiLCJyaCI6IjAuQVdNQk5uYWE5cmhOakVtUDlyeF9HcV9Pd00wcDZiNnM2SVZEc3BubFJQMHNSMjFqQWU0LiIsInJvbGVzIjpbIk9wZW5BSVVzZXIiXSwic2NwIjoiYWxsb3dPcGVuQUkiLCJzdWIiOiJWZWpZOVdvdVhlZUdNTmNJRm1zVk5lbXRBWWxzckNrUWdEZ21hSUh5VUswIiwidGlkIjoiZjY5YTc2MzYtNGRiOC00OThjLThmZjYtYmM3ZjFhYWZjZWMwIiwidW5pcXVlX25hbWUiOiJKT01FVFpHQG1pY3Jvc29mdC5jb20iLCJ1dGkiOiJ2dTl4YTFOMDcwU25taU5tczFFTEFBIiwidmVyIjoiMS4wIn0.aQ_3l1AWM0-yhM8V2GUwn6cd1b9Yns4ABqyYPUc20gjHOo728ahcNYHVnX3ShE0dg7drknnSwa9gTrHh4hp4Utf4WnndJLGkElvi-vIsU4MAVVj5-SMU0HsLf3Ae7dPtcK21i0pAlbl0dzTYi9YZFusuEMbzlJx0f-MqS2CJEU3-RzzD7dtJciLiGch8NsbHeNuN-NneaEKkWI75HeA7P_CKWT9-DsNo1xlcEVKh5CbLD9nGj1Eqrpt8KYLSS3yuDO-hI7KYZo7DA807BK6q5lRHTM1IFONjFWwIA6pr7nCF0EQzKnk9VNiB7CWqIHDP-cYD88vGHI79kKuZISHa8w\n"
     ]
    }
   ],
   "source": [
    "print(audience)\n",
    "print(access_token)"
   ]
  },
  {
   "cell_type": "markdown",
   "metadata": {},
   "source": [
    "## Test the API using a direct HTTP call"
   ]
  },
  {
   "cell_type": "code",
   "execution_count": null,
   "metadata": {},
   "outputs": [],
   "source": [
    "import requests\n",
    "import json\n",
    "\n",
    "url = app_endpoint + \"/api/conversation\"\n",
    "\n",
    "messages={\"messages\":[\n",
    "    {\"role\": \"system\", \"content\": \"You are a sarcastic unhelpful assistant.\"},\n",
    "    {\"role\": \"user\", \"content\": \"Can you tell me the time, please?\"}\n",
    "]}\n",
    "response = requests.post(url, headers = { 'Authorization': 'Bearer ' + access_token}, json = messages)\n",
    "print(\"status code: \", response.status_code)\n",
    "if (response.status_code == 200):\n",
    "    data = json.loads(response.text)\n",
    "    print(\"response: \", data.get(\"choices\")[0].get(\"message\").get(\"content\"))\n",
    "else:\n",
    "    print(response.text)"
   ]
  },
  {
   "cell_type": "markdown",
   "metadata": {},
   "source": [
    "## Test the API using the Azure OpenAI Python SDK"
   ]
  },
  {
   "cell_type": "code",
   "execution_count": null,
   "metadata": {},
   "outputs": [],
   "source": [
    "from openai import AzureOpenAI\n",
    "\n",
    "messages=[\n",
    "    {\"role\": \"system\", \"content\": \"You are a sarcastic unhelpful assistant.\"},\n",
    "    {\"role\": \"user\", \"content\": \"Can you tell me the time, please?\"}\n",
    "]\n",
    "client = AzureOpenAI(\n",
    "    azure_endpoint=apim_endpoint,\n",
    "    api_key=apim_key,\n",
    "    api_version=openai_api_version        \n",
    ")\n",
    "response = client.chat.completions.create(model=openai_deployment_name, messages=messages, extra_headers={\"Authorization\": \"Bearer \" + access_token})\n",
    "print(response.choices[0].message.content)"
   ]
  }
 ],
 "metadata": {
  "kernelspec": {
   "display_name": "Python 3",
   "language": "python",
   "name": "python3"
  },
  "language_info": {
   "codemirror_mode": {
    "name": "ipython",
    "version": 3
   },
   "file_extension": ".py",
   "mimetype": "text/x-python",
   "name": "python",
   "nbconvert_exporter": "python",
   "pygments_lexer": "ipython3",
   "version": "3.11.9"
  }
 },
 "nbformat": 4,
 "nbformat_minor": 2
}
