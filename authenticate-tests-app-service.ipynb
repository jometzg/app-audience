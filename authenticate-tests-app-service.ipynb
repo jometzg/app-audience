{
 "cells": [
  {
   "cell_type": "markdown",
   "metadata": {},
   "source": [
    "# User Authentication using OAuth2 and APIM fronting Azure OpenAI"
   ]
  },
  {
   "cell_type": "code",
   "execution_count": 5,
   "metadata": {},
   "outputs": [],
   "source": [
    "tenant_id = \"f69a7636-4db8-498c-8ff6-bc7f1aafcec0\" # my MCAPS tenant\n",
    "client_id = \"c2933b1e-ba50-4177-ac78-11a564edf49d\" # web-lliybm23riihe-docker client id\n",
    "app_endpoint = \"https://web-lliybm23riihe-docker.azurewebsites.net\"\n"
   ]
  },
  {
   "cell_type": "code",
   "execution_count": null,
   "metadata": {},
   "outputs": [],
   "source": [
    "%pip install msal\n",
    "%pip install openai\n",
    "%pip install requests\n",
    "%pip install logging\n",
    "%pip install json"
   ]
  },
  {
   "cell_type": "markdown",
   "metadata": {},
   "source": [
    "##  Create a device flow to get the access token"
   ]
  },
  {
   "cell_type": "code",
   "execution_count": null,
   "metadata": {},
   "outputs": [],
   "source": [
    "# Step 1: Install MSAL\n",
    "# pip install msal\n",
    "\n",
    "import msal\n",
    "\n",
    "# Step 2: Configure MSAL\n",
    "authority = 'https://login.microsoftonline.com/f69a7636-4db8-498c-8ff6-bc7f1aafcec0'\n",
    "# below is the managed identity for APIM\n",
    "scopes = [\"c2933b1e-ba50-4177-ac78-11a564edf49d\"] # , \"User.Read\"]\n",
    "\n",
    "# Create a public client application\n",
    "app = msal.PublicClientApplication(client_id, authority=authority)\n",
    "\n",
    "# Step 3: Initiate Device Flow\n",
    "flow = app.initiate_device_flow(scopes=scopes)\n",
    "if 'user_code' not in flow:\n",
    "    raise ValueError(\"Failed to create device flow. Check your client ID and authority.\")\n",
    "\n",
    "print(flow['message'])"
   ]
  },
  {
   "cell_type": "code",
   "execution_count": null,
   "metadata": {},
   "outputs": [],
   "source": [
    "# Step 4: Acquire Token\n",
    "result = app.acquire_token_by_device_flow(flow)\n",
    "if 'access_token' in result:\n",
    "    print(\"Access token acquired.\")\n",
    "else:\n",
    "    raise ValueError(\"Failed to acquire token. Error: {}\".format(result.get('error_description')))\n",
    "\n",
    "access_token = result['access_token']\n",
    "\n",
    "# Step 5: Validate Token (Optional)\n",
    "# You can decode the token and check the audience if needed\n",
    "import jwt\n",
    "\n",
    "decoded_token = jwt.decode(access_token, options={\"verify_signature\": False})\n",
    "audience = decoded_token.get('aud')\n",
    "# if audience != 'api://your-apim-instance':\n",
    "#     raise ValueError(\"Token audience does not match the expected audience.\")\n",
    "\n",
    "print(decoded_token)\n",
    "print(audience )"
   ]
  },
  {
   "cell_type": "code",
   "execution_count": null,
   "metadata": {},
   "outputs": [],
   "source": [
    "print(audience)\n",
    "print(access_token)"
   ]
  },
  {
   "cell_type": "markdown",
   "metadata": {},
   "source": [
    "## Test the API using a direct HTTP call"
   ]
  },
  {
   "cell_type": "code",
   "execution_count": null,
   "metadata": {},
   "outputs": [],
   "source": [
    "import requests\n",
    "import json\n",
    "\n",
    "url = app_endpoint + \"/api/conversation\"\n",
    "\n",
    "messages={\"messages\":[\n",
    "    {\"role\": \"system\", \"content\": \"You are a sarcastic unhelpful assistant.\"},\n",
    "    {\"role\": \"user\", \"content\": \"Can you tell me the time, please?\"}\n",
    "]}\n",
    "response = requests.post(url, headers = { 'Authorization': 'Bearer ' + access_token}, json = messages)\n",
    "print(\"status code: \", response.status_code)\n",
    "if (response.status_code == 200):\n",
    "    data = json.loads(response.text)\n",
    "    print(\"response: \", data.get(\"choices\")[0].get(\"message\").get(\"content\"))\n",
    "else:\n",
    "    print(response.text)"
   ]
  },
  {
   "cell_type": "markdown",
   "metadata": {},
   "source": [
    "## Test the API using the Azure OpenAI Python SDK"
   ]
  },
  {
   "cell_type": "code",
   "execution_count": null,
   "metadata": {},
   "outputs": [],
   "source": [
    "from openai import AzureOpenAI\n",
    "\n",
    "messages=[\n",
    "    {\"role\": \"system\", \"content\": \"You are a sarcastic unhelpful assistant.\"},\n",
    "    {\"role\": \"user\", \"content\": \"Can you tell me the time, please?\"}\n",
    "]\n",
    "client = AzureOpenAI(\n",
    "    azure_endpoint=apim_endpoint,\n",
    "    api_key=apim_key,\n",
    "    api_version=openai_api_version        \n",
    ")\n",
    "response = client.chat.completions.create(model=openai_deployment_name, messages=messages, extra_headers={\"Authorization\": \"Bearer \" + access_token})\n",
    "print(response.choices[0].message.content)"
   ]
  }
 ],
 "metadata": {
  "kernelspec": {
   "display_name": "Python 3",
   "language": "python",
   "name": "python3"
  },
  "language_info": {
   "codemirror_mode": {
    "name": "ipython",
    "version": 3
   },
   "file_extension": ".py",
   "mimetype": "text/x-python",
   "name": "python",
   "nbconvert_exporter": "python",
   "pygments_lexer": "ipython3",
   "version": "3.11.9"
  }
 },
 "nbformat": 4,
 "nbformat_minor": 2
}
